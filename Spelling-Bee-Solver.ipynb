{
 "cells": [
  {
   "cell_type": "code",
   "execution_count": 30,
   "metadata": {},
   "outputs": [
    {
     "name": "stdout",
     "output_type": "stream",
     "text": [
      "--2023-11-28 15:19:56--  https://raw.githubusercontent.com/dwyl/english-words/master/words.txt\n",
      "Resolving raw.githubusercontent.com (raw.githubusercontent.com)... 185.199.111.133, 185.199.108.133, 185.199.109.133, ...\n",
      "Connecting to raw.githubusercontent.com (raw.githubusercontent.com)|185.199.111.133|:443... connected.\n",
      "WARNING: cannot verify raw.githubusercontent.com's certificate, issued by ‘CN=DigiCert TLS RSA SHA256 2020 CA1,O=DigiCert Inc,C=US’:\n",
      "  Unable to locally verify the issuer's authority.\n",
      "HTTP request sent, awaiting response... 200 OK\n",
      "Length: 4862992 (4.6M) [text/plain]\n",
      "Saving to: ‘words.txt.1’\n",
      "\n",
      "words.txt.1         100%[===================>]   4.64M  21.2MB/s    in 0.2s    \n",
      "\n",
      "2023-11-28 15:19:57 (21.2 MB/s) - ‘words.txt.1’ saved [4862992/4862992]\n",
      "\n"
     ]
    }
   ],
   "source": [
    "# download all words in the English language\n",
    "! wget --no-check-certificate https://raw.githubusercontent.com/dwyl/english-words/master/words.txt "
   ]
  },
  {
   "cell_type": "code",
   "execution_count": 36,
   "metadata": {},
   "outputs": [
    {
     "name": "stdout",
     "output_type": "stream",
     "text": [
      "--2023-11-28 18:45:16--  https://raw.githubusercontent.com/first20hours/google-10000-english/master/google-10000-english-no-swears.txt\n",
      "Resolving raw.githubusercontent.com (raw.githubusercontent.com)... 185.199.110.133, 185.199.111.133, 185.199.108.133, ...\n",
      "Connecting to raw.githubusercontent.com (raw.githubusercontent.com)|185.199.110.133|:443... connected.\n",
      "WARNING: cannot verify raw.githubusercontent.com's certificate, issued by ‘CN=DigiCert TLS RSA SHA256 2020 CA1,O=DigiCert Inc,C=US’:\n",
      "  Unable to locally verify the issuer's authority.\n",
      "HTTP request sent, awaiting response... 200 OK\n",
      "Length: 75153 (73K) [text/plain]\n",
      "Saving to: ‘google-10000-english-no-swears.txt’\n",
      "\n",
      "google-10000-englis 100%[===================>]  73.39K  --.-KB/s    in 0.02s   \n",
      "\n",
      "2023-11-28 18:45:16 (3.20 MB/s) - ‘google-10000-english-no-swears.txt’ saved [75153/75153]\n",
      "\n"
     ]
    }
   ],
   "source": [
    "! wget --no-check-certificate https://raw.githubusercontent.com/first20hours/google-10000-english/master/google-10000-english-no-swears.txt"
   ]
  },
  {
   "cell_type": "code",
   "execution_count": 40,
   "metadata": {},
   "outputs": [
    {
     "name": "stdout",
     "output_type": "stream",
     "text": [
      "--2023-11-28 18:48:24--  https://raw.githubusercontent.com/dwyl/english-words/master/words_alpha.txt\n",
      "Resolving raw.githubusercontent.com (raw.githubusercontent.com)... 185.199.110.133, 185.199.111.133, 185.199.108.133, ...\n",
      "Connecting to raw.githubusercontent.com (raw.githubusercontent.com)|185.199.110.133|:443... connected.\n",
      "WARNING: cannot verify raw.githubusercontent.com's certificate, issued by ‘CN=DigiCert TLS RSA SHA256 2020 CA1,O=DigiCert Inc,C=US’:\n",
      "  Unable to locally verify the issuer's authority.\n",
      "HTTP request sent, awaiting response... 200 OK\n",
      "Length: 4234917 (4.0M) [text/plain]\n",
      "Saving to: ‘words_alpha.txt’\n",
      "\n",
      "words_alpha.txt     100%[===================>]   4.04M  20.2MB/s    in 0.2s    \n",
      "\n",
      "2023-11-28 18:48:24 (20.2 MB/s) - ‘words_alpha.txt’ saved [4234917/4234917]\n",
      "\n"
     ]
    }
   ],
   "source": [
    "! wget --no-check-certificate https://raw.githubusercontent.com/dwyl/english-words/master/words_alpha.txt"
   ]
  },
  {
   "cell_type": "code",
   "execution_count": 44,
   "metadata": {},
   "outputs": [
    {
     "name": "stdout",
     "output_type": "stream",
     "text": [
      "--2023-11-28 18:52:56--  https://www.gutenberg.org/cache/epub/29765/pg29765.txt\n",
      "Resolving www.gutenberg.org (www.gutenberg.org)... 152.19.134.47\n",
      "Connecting to www.gutenberg.org (www.gutenberg.org)|152.19.134.47|:443... connected.\n",
      "WARNING: cannot verify www.gutenberg.org's certificate, issued by ‘CN=Network Solutions OV Server CA 2,O=Network Solutions L.L.C.,L=Herndon,ST=VA,C=US’:\n",
      "  Self-signed certificate encountered.\n",
      "HTTP request sent, awaiting response... 200 OK\n",
      "Length: 28956423 (28M) [text/plain]\n",
      "Saving to: ‘pg29765.txt’\n",
      "\n",
      "pg29765.txt         100%[===================>]  27.61M  16.6MB/s    in 1.7s    \n",
      "\n",
      "2023-11-28 18:52:58 (16.6 MB/s) - ‘pg29765.txt’ saved [28956423/28956423]\n",
      "\n"
     ]
    }
   ],
   "source": [
    "! wget --no-check-certificate https://www.gutenberg.org/cache/epub/29765/pg29765.txt"
   ]
  },
  {
   "cell_type": "code",
   "execution_count": 20,
   "metadata": {},
   "outputs": [],
   "source": [
    "# import necessary libraries\n",
    "import bs4 as bs\n",
    "from selenium import webdriver"
   ]
  },
  {
   "cell_type": "code",
   "execution_count": 11,
   "metadata": {},
   "outputs": [
    {
     "name": "stdout",
     "output_type": "stream",
     "text": [
      "Failure!\n"
     ]
    }
   ],
   "source": [
    "# get the loded page html source\n",
    "url = \"https://www.nytimes.com/puzzles/spelling-bee\"\n",
    "chrome_options = webdriver.ChromeOptions()\n",
    "chrome_options.add_argument(\"--headless=new\")\n",
    "driver = webdriver.Chrome(options=chrome_options)\n",
    "driver.get(url)\n",
    "html_source = driver.page_source\n",
    "if \"selenium\" in html_source:\n",
    "    print(\"Success!\")\n",
    "else:\n",
    "    print(\"Failure!\")\n",
    "driver.quit()\n",
    "sb_soup = bs.BeautifulSoup(html_source, 'lxml')"
   ]
  },
  {
   "cell_type": "code",
   "execution_count": 28,
   "metadata": {},
   "outputs": [],
   "source": [
    "todays_letters_elements = sb_soup.select(\"text.cell-letter\")\n",
    "todays_letters = []\n",
    "for today_letter in todays_letters_elements:\n",
    "    todays_letters.append(today_letter.contents[0])\n",
    "center_letter = todays_letters[0]"
   ]
  },
  {
   "cell_type": "code",
   "execution_count": 29,
   "metadata": {},
   "outputs": [],
   "source": [
    "alphabet = ['a', 'b', 'c', 'd', 'e', 'f', 'g', 'h', 'i', 'j', 'k', 'l', 'm', 'n', 'o', 'p', 'q', 'r', 's', 't', 'u', 'v', 'w', 'x', 'y', 'z']\n",
    "unacceptable_letters = [l for l in alphabet if l not in todays_letters]"
   ]
  },
  {
   "cell_type": "code",
   "execution_count": 58,
   "metadata": {},
   "outputs": [],
   "source": [
    "acceptable_words = []\n",
    "english_words = open(\"./gutenberg_unabridged.txt\", \"r\") # length > 3\n",
    "for word in english_words.readlines():\n",
    "    word = word.strip()\n",
    "    if word.isupper() and word.isalpha():\n",
    "        word = word.lower()\n",
    "        if center_letter in word and any(l in unacceptable_letters for l in word) == False and len(word) > 3 and word not in acceptable_words:\n",
    "            acceptable_words.append(word)"
   ]
  },
  {
   "cell_type": "code",
   "execution_count": 59,
   "metadata": {},
   "outputs": [
    {
     "data": {
      "text/plain": [
       "46"
      ]
     },
     "execution_count": 59,
     "metadata": {},
     "output_type": "execute_result"
    }
   ],
   "source": [
    "len(acceptable_words)"
   ]
  },
  {
   "cell_type": "code",
   "execution_count": 60,
   "metadata": {},
   "outputs": [
    {
     "data": {
      "text/plain": [
       "['abanga',\n",
       " 'abba',\n",
       " 'abib',\n",
       " 'abra',\n",
       " 'arab',\n",
       " 'araba',\n",
       " 'arabian',\n",
       " 'arabin',\n",
       " 'baaing',\n",
       " 'baba',\n",
       " 'bagging',\n",
       " 'bain',\n",
       " 'bairn',\n",
       " 'banana',\n",
       " 'bang',\n",
       " 'banging',\n",
       " 'banian',\n",
       " 'barb',\n",
       " 'barbara',\n",
       " 'barbarian',\n",
       " 'bargain',\n",
       " 'baria',\n",
       " 'barn',\n",
       " 'bavarian',\n",
       " 'bavian',\n",
       " 'bavin',\n",
       " 'bibb',\n",
       " 'biga',\n",
       " 'bigg',\n",
       " 'biggin',\n",
       " 'bing',\n",
       " 'birr',\n",
       " 'brag',\n",
       " 'brain',\n",
       " 'bran',\n",
       " 'braving',\n",
       " 'briar',\n",
       " 'brig',\n",
       " 'brin',\n",
       " 'bring',\n",
       " 'garb',\n",
       " 'grab',\n",
       " 'rabbi',\n",
       " 'rabbin',\n",
       " 'riban',\n",
       " 'ribbing']"
      ]
     },
     "execution_count": 60,
     "metadata": {},
     "output_type": "execute_result"
    }
   ],
   "source": [
    "acceptable_words"
   ]
  }
 ],
 "metadata": {
  "kernelspec": {
   "display_name": "base",
   "language": "python",
   "name": "python3"
  },
  "language_info": {
   "codemirror_mode": {
    "name": "ipython",
    "version": 3
   },
   "file_extension": ".py",
   "mimetype": "text/x-python",
   "name": "python",
   "nbconvert_exporter": "python",
   "pygments_lexer": "ipython3",
   "version": "3.10.12"
  }
 },
 "nbformat": 4,
 "nbformat_minor": 2
}
